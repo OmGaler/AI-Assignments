{
  "cells": [
    {
      "cell_type": "markdown",
      "metadata": {
        "id": "PELNEMlpx2Ri"
      },
      "source": [
        "Import the libraries math (for square root and absolute value) and pandas and numpy for reading csv files."
      ]
    },
    {
      "cell_type": "code",
      "execution_count": 2,
      "metadata": {
        "id": "mkYTODtExydl"
      },
      "outputs": [],
      "source": [
        "import math\n",
        "import pandas as pd\n",
        "import numpy as np"
      ]
    },
    {
      "cell_type": "markdown",
      "metadata": {
        "id": "zCgb1pGFx8od"
      },
      "source": [
        "Make an untagged vector, point, and two tagged vectors, data1 and data2:"
      ]
    },
    {
      "cell_type": "code",
      "execution_count": 21,
      "metadata": {
        "id": "Ifbww56byViT"
      },
      "outputs": [],
      "source": [
        "point = [1, 0, 0, '?'] #(an unknown tag)\n",
        "data1 = [1, 1, 1, 'M']\n",
        "data2 = [1, 3, 0, 'F']\n"
      ]
    },
    {
      "cell_type": "markdown",
      "metadata": {
        "id": "2hiHzqnsyhW2"
      },
      "source": [
        "Write code to separate the data (X) from the tag (Y).  Your output should be:\n",
        "\n",
        "The vector [1, 1, 1] has tag M\n",
        "\n",
        "The vector [1, 3, 0] has tag F\n"
      ]
    },
    {
      "cell_type": "code",
      "execution_count": 4,
      "metadata": {
        "colab": {
          "base_uri": "https://localhost:8080/"
        },
        "id": "CdgKt99HyaKT",
        "outputId": "5a636236-93fd-4299-b286-86668a06e994"
      },
      "outputs": [
        {
          "name": "stdout",
          "output_type": "stream",
          "text": [
            "The vector  [1, 1, 1]  has tag  M\n"
          ]
        }
      ],
      "source": [
        "print(\"The vector \" , data1[0:-1], \" has tag \", data1[-1])"
      ]
    },
    {
      "cell_type": "markdown",
      "metadata": {
        "id": "Nknnav39yb8C"
      },
      "source": [
        "Now let's classify the point as either M or F.  We'll do this by setting k = 1 and using the Euclidean distance.  We'll define that as: "
      ]
    },
    {
      "cell_type": "code",
      "execution_count": 22,
      "metadata": {
        "id": "gT0HxYoxzG_-"
      },
      "outputs": [],
      "source": [
        "def euclideanDistance(instance1, instance2, length):\n",
        "   distance = 0\n",
        "   for x in range(length):\n",
        "         #print ('x is ' , x)\n",
        "         num1=float(instance1[x])\n",
        "         num2=float(instance2[x])\n",
        "         distance = distance + pow(num1-num2, 2)\n",
        "   return math.sqrt(distance)\n"
      ]
    },
    {
      "cell_type": "markdown",
      "metadata": {
        "id": "RhO3w2O4zKG8"
      },
      "source": [
        "Now, find out the distance between data1 and point and data2 and point. Output what the tag should be using euclideanDistance."
      ]
    },
    {
      "cell_type": "code",
      "execution_count": 24,
      "metadata": {
        "colab": {
          "base_uri": "https://localhost:8080/"
        },
        "id": "rzHsm2KezPie",
        "outputId": "b39ca986-7859-42a9-90b2-02ef6c74234b"
      },
      "outputs": [
        {
          "name": "stdout",
          "output_type": "stream",
          "text": [
            "1.4142135623730951\n",
            "[1, 0, 0, 'M']\n"
          ]
        }
      ],
      "source": [
        "print(euclideanDistance(data1,point,3))\n",
        "if euclideanDistance(data1, point, 3) < euclideanDistance(data2, point, 3):\n",
        "    point[-1] = \"M\"\n",
        "else:\n",
        "    point[-1] = \"F\"\n",
        "print(point)\n"
      ]
    },
    {
      "cell_type": "markdown",
      "metadata": {
        "id": "bImk9yPazRCS"
      },
      "source": [
        "Now, let's get more data from a file, myFile.csv. This code will read it for us:"
      ]
    },
    {
      "cell_type": "code",
      "execution_count": 7,
      "metadata": {
        "colab": {
          "base_uri": "https://localhost:8080/"
        },
        "id": "xeInyfvYzbKj",
        "outputId": "ff567328-dc4c-4958-c20a-3695e5626ce4"
      },
      "outputs": [
        {
          "name": "stderr",
          "output_type": "stream",
          "text": [
            "C:\\Users\\omerg\\AppData\\Local\\Temp\\ipykernel_8972\\2064160621.py:2: FutureWarning: The error_bad_lines argument has been deprecated and will be removed in a future version. Use on_bad_lines in the future.\n",
            "\n",
            "\n",
            "  df=pd.read_csv(url,  header=0, error_bad_lines=False)\n"
          ]
        }
      ],
      "source": [
        "url = 'https://github.com/rosenfa/ai/blob/master/myFile.csv?raw=true'\n",
        "df=pd.read_csv(url,  header=0, error_bad_lines=False) \n",
        "#put data in dataset without header line\n",
        "dataset = np.array(df)"
      ]
    },
    {
      "cell_type": "markdown",
      "metadata": {
        "id": "X_1JLdAEzdhu"
      },
      "source": [
        "Show that you understand what you read by:\n",
        "\n",
        "1. Printing the first two vectors in the file\n",
        "2. Printing the Euclidean distance between those two vectors\n",
        "\n",
        "Here is some code which I think might help get you on your way!"
      ]
    },
    {
      "cell_type": "code",
      "execution_count": 27,
      "metadata": {
        "colab": {
          "base_uri": "https://localhost:8080/"
        },
        "id": "e4QT_37TzuWr",
        "outputId": "3e73a597-13ae-4591-edbe-f1f52ff77bcb"
      },
      "outputs": [
        {
          "name": "stdout",
          "output_type": "stream",
          "text": [
            "[[0 1 2 'F']\n",
            " [1 5 6 'F']\n",
            " [1 40 1 'M']\n",
            " [2 2 2 'F']\n",
            " [0 1 20 'M']\n",
            " [1 5 6 'M']\n",
            " [1 4 1 'M']\n",
            " [2 22 2 'F']\n",
            " [2 23 2 'M']\n",
            " [2 24 2 'M']]\n",
            "10\n",
            "5.744562646538029\n"
          ]
        }
      ],
      "source": [
        "print(len(dataset))\n",
        "print(euclideanDistance(dataset[0],dataset[1],3))\n"
      ]
    },
    {
      "cell_type": "markdown",
      "metadata": {
        "id": "Mw03nhZuEyUw"
      },
      "source": [
        "Now assume you have a new value for point:\n",
        "\n",
        "[0,0,100]\n",
        "\n",
        "How would you classify this vector using the Euclidean distance function given all of the vectors in the file?\n",
        "\n",
        "In order to help here is a hint:  \n",
        "\n",
        "We suggest defining some type of data struction to store different vectors' distances and their tags like this:"
      ]
    },
    {
      "cell_type": "code",
      "execution_count": 9,
      "metadata": {
        "id": "oh8ym0_SE7Rb"
      },
      "outputs": [],
      "source": [
        "class distClass:\n",
        "    dist = -1 #distance of current point from test point\n",
        "    tag = '-' #tag of current point\n"
      ]
    },
    {
      "cell_type": "markdown",
      "metadata": {
        "id": "-KZR5lxOFP2v"
      },
      "source": [
        "You can then add vector distances like this:"
      ]
    },
    {
      "cell_type": "code",
      "execution_count": 10,
      "metadata": {
        "colab": {
          "base_uri": "https://localhost:8080/"
        },
        "id": "hdFwOHcCFScU",
        "outputId": "2faa4bbc-d614-4709-c546-17010b44c909"
      },
      "outputs": [
        {
          "name": "stdout",
          "output_type": "stream",
          "text": [
            "The distances between  [1, 0, 0, 'M']  and  [1 5 6 'F']  is  7.810249675906654\n",
            " and the label is F\n"
          ]
        }
      ],
      "source": [
        "eucDistances = [] # list of distances, will hold objects of type distClass\n",
        "\n",
        "temp=dataset[1]\n",
        "label=temp[-1]\n",
        "d=euclideanDistance(point,temp,3)\n",
        "print(\"The distances between \" , point , \" and \" , temp,  \" is \" , str(d))\n",
        "print(\" and the label is \" + label)\n",
        "obj = distClass() #one record's distance and tag\n",
        "obj.dist=d\n",
        "obj.tag=label\n",
        "eucDistances.append(obj)\n"
      ]
    },
    {
      "cell_type": "code",
      "execution_count": 11,
      "metadata": {
        "colab": {
          "base_uri": "https://localhost:8080/"
        },
        "id": "OTJBcLSJa8SR",
        "outputId": "3e0ad82e-b0d3-426a-cc5f-e3859396fcb7"
      },
      "outputs": [
        {
          "data": {
            "text/plain": [
              "7.810249675906654"
            ]
          },
          "execution_count": 11,
          "metadata": {},
          "output_type": "execute_result"
        }
      ],
      "source": [
        "eucDistances[0].dist"
      ]
    },
    {
      "cell_type": "markdown",
      "metadata": {
        "id": "67seTigUFbW7"
      },
      "source": [
        "and sort them like this:"
      ]
    },
    {
      "cell_type": "code",
      "execution_count": 12,
      "metadata": {
        "id": "J0rEdJXKFctw"
      },
      "outputs": [],
      "source": [
        "eucDistances.sort(key=lambda x: x.dist) "
      ]
    },
    {
      "cell_type": "markdown",
      "metadata": {
        "id": "eWzp7vM9FgLm"
      },
      "source": [
        "Questions:\n",
        "\n",
        "1. What is the label for point if k=1?\n",
        "2. What is the label for point if k=3?\n",
        "3. Would the result be different if we used a different distance function like Hamming or Manhattan?"
      ]
    },
    {
      "cell_type": "code",
      "execution_count": 13,
      "metadata": {
        "id": "tbHJ5OS5GeCw"
      },
      "outputs": [],
      "source": [
        "#Add code with functions that implement Hamming and Manhattan distances and test \n",
        "#what the label will be for k=1 and k=3 for all possibilities \n",
        "#(6 total: 2 Euclidean, 2 Hamming and 2 Manhattan)\n",
        "\n",
        "def hammingDistance(instance1, instance2, length): \n",
        "    distance = 0 #init distance to zero\n",
        "    for x in range(length): #iterate through the data point's fields\n",
        "        if (instance1[x] != instance2[x]): #hamming distance measures the number of fields that differ between the points\n",
        "            distance += 1 #differing fields, increment distance\n",
        "    return distance\n",
        "\n",
        "def manhattanDistance(instance1, instance2, length):\n",
        "    distance = 0 #initialise \n",
        "    for x in range(length):\n",
        "        #print ('x is ' , x)\n",
        "        num1=float(instance1[x])\n",
        "        num2=float(instance2[x])\n",
        "        distance = distance + abs(num1-num2) #add absolute distance between points to the distance \n",
        "    return math.sqrt(distance)\n"
      ]
    },
    {
      "cell_type": "code",
      "execution_count": 14,
      "metadata": {},
      "outputs": [],
      "source": [
        "#k nearest neighbours\n",
        "#sort distances by distance tro the point\n",
        "#take k first points and get the tag that occurs the most\n",
        "def knn(k, distances): #iterate through the k points with least distance to find the k nearest neighbours \n",
        "    distances.sort(key=lambda x: x.dist) #make sure list is sorted ascending by distance so that we iterate starting with the closest and ending with the furthest\n",
        "    m = 0; f = 0 #init counters to keep track of how many neighbours of each type \n",
        "    for i in range(k): #start iterating to get the knn\n",
        "        if distances[i].tag == \"M\":\n",
        "            m += 1 #neighbour is a male\n",
        "        elif distances[i].tag == \"F\":\n",
        "            f += 1 #neighbour is femaile\n",
        "    return \"M\" if m > f else \"F\" #return whatever had the most from those k nearest neighbours"
      ]
    },
    {
      "cell_type": "markdown",
      "metadata": {
        "id": "o-XsqlSRVyEX"
      },
      "source": [
        "Up until here is a simplified version of the homework.\n",
        "Below here is the work for the part we will be checking as the basis of your grade: "
      ]
    },
    {
      "cell_type": "markdown",
      "metadata": {
        "id": "7KPzkCfLGxDK"
      },
      "source": [
        "Now let's look at some bigger files: \n",
        "\n",
        "1. mytrain.csv (for training the model)\n",
        "2. mytest.csv (for testing)\n"
      ]
    },
    {
      "cell_type": "code",
      "execution_count": 15,
      "metadata": {
        "id": "menQ9SEoG_Ag"
      },
      "outputs": [
        {
          "name": "stderr",
          "output_type": "stream",
          "text": [
            "C:\\Users\\omerg\\AppData\\Local\\Temp\\ipykernel_8972\\3800603745.py:2: FutureWarning: The error_bad_lines argument has been deprecated and will be removed in a future version. Use on_bad_lines in the future.\n",
            "\n",
            "\n",
            "  train_data = np.array(pd.read_csv(url,  header=0, error_bad_lines=False))\n",
            "C:\\Users\\omerg\\AppData\\Local\\Temp\\ipykernel_8972\\3800603745.py:4: FutureWarning: The error_bad_lines argument has been deprecated and will be removed in a future version. Use on_bad_lines in the future.\n",
            "\n",
            "\n",
            "  test_data = np.array(pd.read_csv(url,  header=0, error_bad_lines=False))\n"
          ]
        }
      ],
      "source": [
        "url = 'https://github.com/rosenfa/ai/blob/master/mytrain.csv?raw=true'\n",
        "train_data = np.array(pd.read_csv(url,  header=0, error_bad_lines=False))\n",
        "url = 'https://github.com/rosenfa/ai/blob/master/mytest.csv?raw=true'\n",
        "test_data = np.array(pd.read_csv(url,  header=0, error_bad_lines=False))"
      ]
    },
    {
      "cell_type": "code",
      "execution_count": 16,
      "metadata": {
        "colab": {
          "base_uri": "https://localhost:8080/"
        },
        "id": "ej1wLymKHPnT",
        "outputId": "3ec274f5-b280-4ca6-8fc0-7a37a9fec79d"
      },
      "outputs": [
        {
          "name": "stdout",
          "output_type": "stream",
          "text": [
            "(100, 30)\n",
            "[[0.317251 0.540016 0.150514 ... 0.0 0.212007 'F']\n",
            " [3.882181 0.0 0.0 ... 0.0 0.0 'F']\n",
            " [1.790708 0.0 0.0 ... 0.0 0.0 'F']\n",
            " ...\n",
            " [0.0 0.0 0.0 ... 0.0 0.0 'M']\n",
            " [0.0 0.0 0.0 ... 0.0 0.0 'M']\n",
            " [0.0 0.0 0.0 ... 0.0 0.0 'F']]\n"
          ]
        }
      ],
      "source": [
        "print(train_data.shape)# number of records and features\n",
        "print(train_data)"
      ]
    },
    {
      "cell_type": "code",
      "execution_count": 17,
      "metadata": {
        "colab": {
          "base_uri": "https://localhost:8080/"
        },
        "id": "v9YKMlcPHVWU",
        "outputId": "3f7b6fde-0344-4b74-ecdc-497de76a56d3"
      },
      "outputs": [
        {
          "name": "stdout",
          "output_type": "stream",
          "text": [
            "(100, 30)\n",
            "[[2.85985 0.66275 0.0 ... 0.995289 0.0 'F']\n",
            " [0.0 12.998726 0.0 ... 0.0 0.0 'F']\n",
            " [13.231318 0.0 0.0 ... 0.0 0.0 'F']\n",
            " ...\n",
            " [0.0 0.0 0.0 ... 0.0 0.0 'M']\n",
            " [1.688611 0.0 3.204529 ... 0.0 0.0 'M']\n",
            " [0.0 0.0 0.0 ... 0.0 0.0 'M']]\n"
          ]
        }
      ],
      "source": [
        "print(test_data.shape)# number of records and features\n",
        "print(test_data)"
      ]
    },
    {
      "cell_type": "markdown",
      "metadata": {
        "id": "hsjBpdObIB7d"
      },
      "source": [
        "I hope by now you understand where we are going with this :)\n",
        "\n",
        "Now implement the knn code with 3 different values for k:\n",
        "1. k = 1\n",
        "2. k = 7\n",
        "3. k = 15\n",
        "\n",
        "and at first use the Euclidean distance.\n",
        "Classify each of the vectors in the test_data dataset using the training data from train_data.  Which value for k did the best?  What accuracy did it give you?\n",
        "\n",
        "Now see if using Hamming or Manhattan distance give any better results for the same values of k.  \n",
        "\n",
        "Once you are done, you should have a total of 9 different results:\n",
        "\n",
        "1. Three results for the different value of k using the Euclidean Distance\n",
        "2. Three results for the different value of k using the Hamming Distance\n",
        "3. Three results for the different value of k using the Manhattan Distance\n",
        "\n",
        "Hint: I strongly suggest you base yourself on the code you've seen until this point so you don't have to reinvent the wheel!"
      ]
    },
    {
      "cell_type": "code",
      "execution_count": null,
      "metadata": {},
      "outputs": [],
      "source": []
    },
    {
      "cell_type": "code",
      "execution_count": 51,
      "metadata": {
        "id": "dIyZbN4kJBrO"
      },
      "outputs": [
        {
          "name": "stdout",
          "output_type": "stream",
          "text": [
            "k=1\n",
            "success rate 0.2\n",
            "k=7\n",
            "success rate 0.37\n",
            "k=15\n",
            "success rate 0.4266666666666667\n"
          ]
        },
        {
          "data": {
            "text/plain": [
              "'\\n\\n    \\ntemp=dataset[1]\\nlabel=temp[-1]\\nd=euclideanDistance(point,temp,3)\\nprint(\"The distances between \" , point , \" and \" , temp,  \" is \" , str(d))\\nprint(\" and the label is \" + label)\\nobj = distClass() #one record\\'s distance and tag\\nobj.dist=d\\nobj.tag=label\\neucDistances.append(obj)\\n    '"
            ]
          },
          "execution_count": 51,
          "metadata": {},
          "output_type": "execute_result"
        }
      ],
      "source": [
        "#Add code here\n",
        "ks = [1, 7, 15] #different k values to try\n",
        "\n",
        "results = {}\n",
        "distances = []\n",
        "wrong = 0\n",
        "total = 0\n",
        "for kNumNeighb in ks:\n",
        "    for datum in test_data:\n",
        "        # print(datum[:-1])\n",
        "        for point in train_data:\n",
        "            d = distClass()\n",
        "            d.dist = euclideanDistance(datum, point, 29)\n",
        "            d.tag = point[-1]\n",
        "            distances.append(d)\n",
        "        datumtag = knn(kNumNeighb, distances)  \n",
        "        if datumtag != datum[-1]: #check we got it right\n",
        "            wrong += 1\n",
        "        total += 1\n",
        "    print(\"k=\"+str(kNumNeighb))\n",
        "    print(\"success rate \"+str((total-wrong)/total))\n",
        "\n",
        "\n",
        "# # print(p/oint)\n",
        "# # point = [random.randint(0, 1)] * 29 + [\"?\"]\n",
        "\n",
        "\n",
        "# euclideanDistances = [] # list of distances, will hold objects of type distClass\n",
        "# manhattanDistances = [] # list of distances, will hold objects of type distClass\n",
        "# hammingDistances = [] # list of distances, will hold objects of type distClass\n",
        "\n",
        "# for datum in train_data:\n",
        "#     label = datum[-1]\n",
        "#     d=euclideanDistance(point, datum, 29) #29 fields\n",
        "#     obj = distClass()\n",
        "#     obj.dist = d\n",
        "#     obj.tag = label\n",
        "#     euclideanDistances.append(obj)\n",
        "\n",
        "# for datum in train_data:\n",
        "#     label = datum[-1]\n",
        "#     d=manhattanDistance(point, datum, 29) #29 fields\n",
        "#     obj = distClass()\n",
        "#     obj.dist = d\n",
        "#     obj.tag = label\n",
        "#     manhattanDistances.append(obj)\n",
        "\n",
        "# for datum in train_data:\n",
        "#     label = datum[-1]\n",
        "#     d=hammingDistance(point, datum, 29) #29 fields\n",
        "#     obj = distClass()\n",
        "#     obj.dist = d\n",
        "#     obj.tag = label\n",
        "#     hammingDistances.append(obj)\n",
        "\n",
        "\n",
        "\n",
        "\n",
        "'''\n",
        "\n",
        "    \n",
        "temp=dataset[1]\n",
        "label=temp[-1]\n",
        "d=euclideanDistance(point,temp,3)\n",
        "print(\"The distances between \" , point , \" and \" , temp,  \" is \" , str(d))\n",
        "print(\" and the label is \" + label)\n",
        "obj = distClass() #one record's distance and tag\n",
        "obj.dist=d\n",
        "obj.tag=label\n",
        "eucDistances.append(obj)\n",
        "    '''\n",
        "\n",
        "\n",
        "# for x in ks:\n",
        "#     print(knn(x, manhattanDistances))\n",
        "#     # pass\n",
        "\n"
      ]
    },
    {
      "cell_type": "markdown",
      "metadata": {
        "id": "HD2PnNuTQ175"
      },
      "source": [
        "Grade Basis:\n",
        "\n",
        "80% for correct answers (and yes, there are possibilities that multiple answers are correct-- especially for cases of ties).\n",
        "\n",
        "20% : Documentation and easily readable code\n",
        "\n",
        "Please publish your final Notebook in your Github directory.\n",
        "\n",
        "The homework assignment is due by November 30th.\n"
      ]
    }
  ],
  "metadata": {
    "colab": {
      "provenance": []
    },
    "kernelspec": {
      "display_name": "Python 3.10.0 64-bit",
      "language": "python",
      "name": "python3"
    },
    "language_info": {
      "codemirror_mode": {
        "name": "ipython",
        "version": 3
      },
      "file_extension": ".py",
      "mimetype": "text/x-python",
      "name": "python",
      "nbconvert_exporter": "python",
      "pygments_lexer": "ipython3",
      "version": "3.10.0"
    },
    "vscode": {
      "interpreter": {
        "hash": "81a874e645ab54eb2528ac3c3203a01c9b169ca4c7e2b4ec5083c0860b9870d3"
      }
    }
  },
  "nbformat": 4,
  "nbformat_minor": 0
}
