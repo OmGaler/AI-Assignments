{
  "cells": [
    {
      "cell_type": "markdown",
      "metadata": {
        "id": "PELNEMlpx2Ri"
      },
      "source": [
        "Import the libraries math (for square root and absolute value) and pandas and numpy for reading csv files."
      ]
    },
    {
      "cell_type": "code",
      "execution_count": null,
      "metadata": {
        "id": "mkYTODtExydl"
      },
      "outputs": [],
      "source": [
        "import math\n",
        "import pandas as pd\n",
        "import numpy as np"
      ]
    },
    {
      "cell_type": "markdown",
      "metadata": {
        "id": "zCgb1pGFx8od"
      },
      "source": [
        "Make an untagged vector, point, and two tagged vectors, data1 and data2:"
      ]
    },
    {
      "cell_type": "code",
      "execution_count": null,
      "metadata": {
        "id": "Ifbww56byViT"
      },
      "outputs": [],
      "source": [
        "point = [1, 0, 0, '?'] #(an unknown tag)\n",
        "data1 = [1, 1, 1, 'M']\n",
        "data2 = [1, 3, 0, 'F']\n"
      ]
    },
    {
      "cell_type": "markdown",
      "metadata": {
        "id": "2hiHzqnsyhW2"
      },
      "source": [
        "Write code to separate the data (X) from the tag (Y).  Your output should be:\n",
        "\n",
        "The vector [1, 1, 1] has tag M\n",
        "\n",
        "The vector [1, 3, 0] has tag F\n"
      ]
    },
    {
      "cell_type": "code",
      "execution_count": null,
      "metadata": {
        "colab": {
          "base_uri": "https://localhost:8080/"
        },
        "id": "CdgKt99HyaKT",
        "outputId": "5a636236-93fd-4299-b286-86668a06e994"
      },
      "outputs": [],
      "source": [
        "print(\"The vector \" , data1[0:-1], \" has tag \", data1[-1])"
      ]
    },
    {
      "cell_type": "markdown",
      "metadata": {
        "id": "Nknnav39yb8C"
      },
      "source": [
        "Now let's classify the point as either M or F.  We'll do this by setting k = 1 and using the Euclidean distance.  We'll define that as: "
      ]
    },
    {
      "cell_type": "code",
      "execution_count": null,
      "metadata": {
        "id": "gT0HxYoxzG_-"
      },
      "outputs": [],
      "source": [
        "def euclideanDistance(instance1, instance2, length):\n",
        "   distance = 0\n",
        "   for x in range(length):\n",
        "         #print ('x is ' , x)\n",
        "         num1=float(instance1[x])\n",
        "         num2=float(instance2[x])\n",
        "         distance = distance + pow(num1-num2, 2)\n",
        "   return math.sqrt(distance)\n"
      ]
    },
    {
      "cell_type": "markdown",
      "metadata": {
        "id": "RhO3w2O4zKG8"
      },
      "source": [
        "Now, find out the distance between data1 and point and data2 and point. Output what the tag should be using euclideanDistance."
      ]
    },
    {
      "cell_type": "code",
      "execution_count": null,
      "metadata": {
        "colab": {
          "base_uri": "https://localhost:8080/"
        },
        "id": "rzHsm2KezPie",
        "outputId": "b39ca986-7859-42a9-90b2-02ef6c74234b"
      },
      "outputs": [],
      "source": [
        "print(euclideanDistance(data1,point,3))\n",
        "if euclideanDistance(data1, point, 3) < euclideanDistance(data2, point, 3):\n",
        "    point[-1] = \"M\"\n",
        "else:\n",
        "    point[-1] = \"F\"\n",
        "print(point)\n"
      ]
    },
    {
      "cell_type": "markdown",
      "metadata": {
        "id": "bImk9yPazRCS"
      },
      "source": [
        "Now, let's get more data from a file, myFile.csv. This code will read it for us:"
      ]
    },
    {
      "cell_type": "code",
      "execution_count": null,
      "metadata": {
        "colab": {
          "base_uri": "https://localhost:8080/"
        },
        "id": "xeInyfvYzbKj",
        "outputId": "ff567328-dc4c-4958-c20a-3695e5626ce4"
      },
      "outputs": [],
      "source": [
        "url = 'https://github.com/rosenfa/ai/blob/master/myFile.csv?raw=true'\n",
        "df=pd.read_csv(url,  header=0, error_bad_lines=False) \n",
        "#put data in dataset without header line\n",
        "dataset = np.array(df)"
      ]
    },
    {
      "cell_type": "markdown",
      "metadata": {
        "id": "X_1JLdAEzdhu"
      },
      "source": [
        "Show that you understand what you read by:\n",
        "\n",
        "1. Printing the first two vectors in the file\n",
        "2. Printing the Euclidean distance between those two vectors\n",
        "\n",
        "Here is some code which I think might help get you on your way!"
      ]
    },
    {
      "cell_type": "code",
      "execution_count": null,
      "metadata": {
        "colab": {
          "base_uri": "https://localhost:8080/"
        },
        "id": "e4QT_37TzuWr",
        "outputId": "3e73a597-13ae-4591-edbe-f1f52ff77bcb"
      },
      "outputs": [],
      "source": [
        "print(len(dataset))\n",
        "print(euclideanDistance(dataset[0],dataset[1],3))"
      ]
    },
    {
      "cell_type": "markdown",
      "metadata": {
        "id": "Mw03nhZuEyUw"
      },
      "source": [
        "Now assume you have a new value for point:\n",
        "\n",
        "[0,0,100]\n",
        "\n",
        "How would you classify this vector using the Euclidean distance function given all of the vectors in the file?\n",
        "\n",
        "In order to help here is a hint:  \n",
        "\n",
        "We suggest defining some type of data struction to store different vectors' distances and their tags like this:"
      ]
    },
    {
      "cell_type": "code",
      "execution_count": null,
      "metadata": {
        "id": "oh8ym0_SE7Rb"
      },
      "outputs": [],
      "source": [
        "class distClass:\n",
        "    dist = -1 #distance of current point from test point\n",
        "    tag = '-' #tag of current point"
      ]
    },
    {
      "cell_type": "markdown",
      "metadata": {
        "id": "-KZR5lxOFP2v"
      },
      "source": [
        "You can then add vector distances like this:"
      ]
    },
    {
      "cell_type": "code",
      "execution_count": null,
      "metadata": {
        "colab": {
          "base_uri": "https://localhost:8080/"
        },
        "id": "hdFwOHcCFScU",
        "outputId": "2faa4bbc-d614-4709-c546-17010b44c909"
      },
      "outputs": [],
      "source": [
        "eucDistances = [] # list of distances, will hold objects of type distClass\n",
        "\n",
        "temp=dataset[1]\n",
        "label=temp[-1]\n",
        "d=euclideanDistance(point,temp,3)\n",
        "print(\"The distances between \" , point , \" and \" , temp,  \" is \" , str(d))\n",
        "print(\" and the label is \" + label)\n",
        "obj = distClass() #one record's distance and tag\n",
        "obj.dist=d\n",
        "obj.tag=label\n",
        "eucDistances.append(obj)\n"
      ]
    },
    {
      "cell_type": "code",
      "execution_count": null,
      "metadata": {
        "colab": {
          "base_uri": "https://localhost:8080/"
        },
        "id": "OTJBcLSJa8SR",
        "outputId": "3e0ad82e-b0d3-426a-cc5f-e3859396fcb7"
      },
      "outputs": [],
      "source": [
        "eucDistances[0].dist"
      ]
    },
    {
      "cell_type": "markdown",
      "metadata": {
        "id": "67seTigUFbW7"
      },
      "source": [
        "and sort them like this:"
      ]
    },
    {
      "cell_type": "code",
      "execution_count": null,
      "metadata": {
        "id": "J0rEdJXKFctw"
      },
      "outputs": [],
      "source": [
        "eucDistances.sort(key=lambda x: x.dist) "
      ]
    },
    {
      "cell_type": "markdown",
      "metadata": {
        "id": "eWzp7vM9FgLm"
      },
      "source": [
        "Questions:\n",
        "\n",
        "1. What is the label for point if k=1?\n",
        "2. What is the label for point if k=3?\n",
        "3. Would the result be different if we used a different distance function like Hamming or Manhattan?"
      ]
    },
    {
      "cell_type": "code",
      "execution_count": 57,
      "metadata": {
        "id": "tbHJ5OS5GeCw"
      },
      "outputs": [
        {
          "name": "stdout",
          "output_type": "stream",
          "text": [
            "euclidean\n",
            "k=1\n",
            "tag=F\n",
            "k=3\n",
            "tag=F\n",
            "hamming\n",
            "k=1\n",
            "tag=F\n",
            "k=3\n",
            "tag=F\n",
            "manhattan\n",
            "k=1\n",
            "tag=F\n",
            "k=3\n",
            "tag=F\n"
          ]
        }
      ],
      "source": [
        "#Add code with functions that implement Hamming and Manhattan distances and test \n",
        "#what the label will be for k=1 and k=3 for all possibilities \n",
        "#(6 total: 2 Euclidean, 2 Hamming and 2 Manhattan)\n",
        "\n",
        "def hammingDistance(instance1, instance2, length): \n",
        "    distance = 0 #init distance to zero\n",
        "    for x in range(length): #iterate through the data point's fields\n",
        "        if (instance1[x] != instance2[x]): #hamming distance measures the number of fields that differ between the points\n",
        "            distance += 1 #differing fields, increment distance\n",
        "    return distance\n",
        "\n",
        "def manhattanDistance(instance1, instance2, length):\n",
        "    distance = 0 #initialise \n",
        "    for x in range(length):\n",
        "        #print ('x is ' , x)\n",
        "        num1=float(instance1[x])\n",
        "        num2=float(instance2[x])\n",
        "        distance = distance + abs(num1-num2) #add absolute distance between points to the distance \n",
        "    return distance\n",
        "\n",
        "#quick test\n",
        "point = [0,0,100]\n",
        "dis = []\n",
        "print(\"euclidean\")\n",
        "for k in [1, 3]: #try different ks\n",
        "    for d in dataset: #compute distance of each datapoint to our unknown point\n",
        "        obj = distClass()\n",
        "        obj.dist = euclideanDistance(point, d, 3)\n",
        "        dis.append(obj)\n",
        "    tag = knn(k, dis) #pass the distances to knn to select k nearest points and make a decision on the tag\n",
        "    print(\"k=\"+str(k))\n",
        "    print(\"tag=\"+str(tag))\n",
        "print(\"hamming\")\n",
        "for k in [1, 3]:\n",
        "    for d in dataset:\n",
        "        obj = distClass()\n",
        "        obj.dist = hammingDistance(point, d, 3)\n",
        "        dis.append(obj)\n",
        "    tag = knn(k, dis)\n",
        "    print(\"k=\"+str(k))\n",
        "    print(\"tag=\"+str(tag))\n",
        "print(\"manhattan\")\n",
        "for k in [1, 3]:\n",
        "    for d in dataset:\n",
        "        obj = distClass()\n",
        "        obj.dist = manhattanDistance(point, d, 3)\n",
        "        dis.append(obj)\n",
        "    tag = knn(k, dis)\n",
        "    print(\"k=\"+str(k))\n",
        "    print(\"tag=\"+str(tag))\n",
        "#always classifies point as F, regardless of k or distance alg"
      ]
    },
    {
      "cell_type": "code",
      "execution_count": 54,
      "metadata": {},
      "outputs": [],
      "source": [
        "#k nearest neighbours\n",
        "#sort distances by distance tro the point\n",
        "#take k first points and get the tag that occurs the most\n",
        "def knn(k, distances): #iterate through the k points with least distance to find the k nearest neighbours \n",
        "    distances.sort(key=lambda x: x.dist) #make sure list is sorted ascending by distance so that we iterate starting with the closest and ending with the furthest\n",
        "    m = 0; f = 0 #init counters to keep track of how many neighbours of each type \n",
        "    for i in range(k): #start iterating to get the knn\n",
        "        if distances[i].tag == \"M\":\n",
        "            m += 1 #neighbour is a male\n",
        "        elif distances[i].tag == \"F\":\n",
        "            f += 1 #neighbour is female\n",
        "    return \"M\" if m > f else \"F\" #return whatever had the most from those k nearest neighbours\n",
        "    #we're only using odd k so we shouldn't have any ties where half of neighbours are in each category"
      ]
    },
    {
      "cell_type": "markdown",
      "metadata": {
        "id": "o-XsqlSRVyEX"
      },
      "source": [
        "Up until here is a simplified version of the homework.\n",
        "Below here is the work for the part we will be checking as the basis of your grade: "
      ]
    },
    {
      "cell_type": "markdown",
      "metadata": {
        "id": "7KPzkCfLGxDK"
      },
      "source": [
        "Now let's look at some bigger files: \n",
        "\n",
        "1. mytrain.csv (for training the model)\n",
        "2. mytest.csv (for testing)\n"
      ]
    },
    {
      "cell_type": "code",
      "execution_count": null,
      "metadata": {
        "id": "menQ9SEoG_Ag"
      },
      "outputs": [],
      "source": [
        "url = 'https://github.com/rosenfa/ai/blob/master/mytrain.csv?raw=true'\n",
        "train_data = np.array(pd.read_csv(url,  header=0, error_bad_lines=False))\n",
        "url = 'https://github.com/rosenfa/ai/blob/master/mytest.csv?raw=true'\n",
        "test_data = np.array(pd.read_csv(url,  header=0, error_bad_lines=False))"
      ]
    },
    {
      "cell_type": "code",
      "execution_count": null,
      "metadata": {
        "colab": {
          "base_uri": "https://localhost:8080/"
        },
        "id": "ej1wLymKHPnT",
        "outputId": "3ec274f5-b280-4ca6-8fc0-7a37a9fec79d"
      },
      "outputs": [],
      "source": [
        "print(train_data.shape)# number of records and features\n",
        "print(train_data)"
      ]
    },
    {
      "cell_type": "code",
      "execution_count": null,
      "metadata": {
        "colab": {
          "base_uri": "https://localhost:8080/"
        },
        "id": "v9YKMlcPHVWU",
        "outputId": "3f7b6fde-0344-4b74-ecdc-497de76a56d3"
      },
      "outputs": [],
      "source": [
        "print(test_data.shape) # number of records and features\n",
        "print(test_data)"
      ]
    },
    {
      "cell_type": "markdown",
      "metadata": {
        "id": "hsjBpdObIB7d"
      },
      "source": [
        "I hope by now you understand where we are going with this :)\n",
        "\n",
        "Now implement the knn code with 3 different values for k:\n",
        "1. k = 1\n",
        "2. k = 7\n",
        "3. k = 15\n",
        "\n",
        "and at first use the Euclidean distance.\n",
        "Classify each of the vectors in the test_data dataset using the training data from train_data.  Which value for k did the best?  What accuracy did it give you?\n",
        "\n",
        "Now see if using Hamming or Manhattan distance give any better results for the same values of k.  \n",
        "\n",
        "Once you are done, you should have a total of 9 different results:\n",
        "\n",
        "1. Three results for the different value of k using the Euclidean Distance\n",
        "2. Three results for the different value of k using the Hamming Distance\n",
        "3. Three results for the different value of k using the Manhattan Distance\n",
        "\n",
        "Hint: I strongly suggest you base yourself on the code you've seen until this point so you don't have to reinvent the wheel!"
      ]
    },
    {
      "cell_type": "code",
      "execution_count": 58,
      "metadata": {
        "id": "dIyZbN4kJBrO"
      },
      "outputs": [
        {
          "name": "stdout",
          "output_type": "stream",
          "text": [
            "\n",
            "euclidean distance\n",
            "k=1\n",
            "success rate 0.5\n",
            "k=7\n",
            "success rate 0.62\n",
            "k=15\n",
            "success rate 0.65\n",
            "\n",
            "hamming distance\n",
            "k=1\n",
            "success rate 0.64\n",
            "k=7\n",
            "success rate 0.62\n",
            "k=15\n",
            "success rate 0.61\n",
            "\n",
            "manhattan distance\n",
            "k=1\n",
            "success rate 0.61\n",
            "k=7\n",
            "success rate 0.61\n",
            "k=15\n",
            "success rate 0.62\n"
          ]
        }
      ],
      "source": [
        "#Add code here\n",
        "ks = [1, 7, 15] #different k values to try\n",
        "\n",
        "algs = [\"e\", \"h\", \"m\"] #each distance algorithm to use\n",
        "\n",
        "wrong = 0\n",
        "total = 0\n",
        "for alg in algs: #try each of the three distances\n",
        "    print(\"\\n%s distance\" % {\"e\": \"euclidean\", \"h\": \"hamming\", \"m\": \"manhattan\"}[alg]) #print the distance algorithm we're currently using \n",
        "    for kNumNeighb in ks: #try for k=1, k=7, k=15\n",
        "        for datum in test_data: #iterate over the test data, we'll ignore the tag, check it against our knn alg and see if the tags match\n",
        "            #if they do, it means knn got the classification right\n",
        "            distances = [] #list of distances of each point in the training data set to this \"uncategorised\" point in the test data\n",
        "            for p in train_data: #compute distance of each point in the training data to our \"uncategorised\" point in the test data\n",
        "                d = distClass() #so we can run knn\n",
        "                if alg == \"e\": #try different ways of getting distances \n",
        "                    d.dist = euclideanDistance(datum, p, 29) #distance between datum and p, there are 29 attributes on which we'll base our distance\n",
        "                elif alg == \"h\": #hamming\n",
        "                    d.dist = hammingDistance(datum, p, 29)\n",
        "                elif alg == \"m\": #manhattan\n",
        "                    d.dist = manhattanDistance(datum, p, 29)\n",
        "                d.tag = p[-1] #save the tag of this point so we can use it for classification it if it's a k nearest neighbour\n",
        "                distances.append(d) #add distance of datum to point p to our list\n",
        "            datumtag = knn(kNumNeighb, distances) #pass distances, to knn, sort the distances and take the k first elements\n",
        "            #(corresponding to the k nearest neighbours since they have the k smallest distances) and check their tags\n",
        "            #whatever tag occurs most among these neighbours is a likely contendor for the tag of this datum point\n",
        "            if datumtag != datum[-1]: #check we got it right\n",
        "                wrong += 1 #we did not :(\n",
        "            total += 1\n",
        "        #print results \n",
        "        print(\"k=\"+str(kNumNeighb))\n",
        "        print(\"success rate \" + str(round((total-wrong)/total, 2)))\n",
        "\n",
        "'''\n",
        "notes on results:\n",
        "1. for euclidean and manhattan distances, the accuracy was higher for larger values of k (which is to be expected)\n",
        "2. for hamming, the accuracy actually went down for larger k, perhaps because the algorithm doesn't actually \n",
        "evaluate spatial distance as oppossed to the other two\n",
        "3. euclidean did better than manhattan for large(ish) k while manhattan did better for smaller ks, although the\n",
        "range of accuracies for manhattan across all ks was much smaller\n",
        "'''"
      ]
    },
    {
      "cell_type": "markdown",
      "metadata": {
        "id": "HD2PnNuTQ175"
      },
      "source": [
        "Grade Basis:\n",
        "\n",
        "80% for correct answers (and yes, there are possibilities that multiple answers are correct-- especially for cases of ties).\n",
        "\n",
        "20% : Documentation and easily readable code\n",
        "\n",
        "Please publish your final Notebook in your Github directory.\n",
        "\n",
        "The homework assignment is due by November 30th.\n"
      ]
    }
  ],
  "metadata": {
    "colab": {
      "provenance": []
    },
    "kernelspec": {
      "display_name": "Python 3.10.0 64-bit",
      "language": "python",
      "name": "python3"
    },
    "language_info": {
      "codemirror_mode": {
        "name": "ipython",
        "version": 3
      },
      "file_extension": ".py",
      "mimetype": "text/x-python",
      "name": "python",
      "nbconvert_exporter": "python",
      "pygments_lexer": "ipython3",
      "version": "3.10.0"
    },
    "vscode": {
      "interpreter": {
        "hash": "81a874e645ab54eb2528ac3c3203a01c9b169ca4c7e2b4ec5083c0860b9870d3"
      }
    }
  },
  "nbformat": 4,
  "nbformat_minor": 0
}
